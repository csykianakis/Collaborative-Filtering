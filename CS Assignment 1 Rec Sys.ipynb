{
 "cells": [
  {
   "cell_type": "markdown",
   "metadata": {
    "_cell_guid": "b1076dfc-b9ad-4769-8c92-a6c4dae69d19",
    "_uuid": "8f2839f25d086af736a60e9eeb907d3b93b6e0e5",
    "execution": {
     "iopub.execute_input": "2024-03-13T10:32:31.359179Z",
     "iopub.status.busy": "2024-03-13T10:32:31.358718Z",
     "iopub.status.idle": "2024-03-13T10:32:31.375512Z",
     "shell.execute_reply": "2024-03-13T10:32:31.374476Z",
     "shell.execute_reply.started": "2024-03-13T10:32:31.359145Z"
    }
   },
   "source": [
    "## Recommender Systems \n",
    "\n",
    "## Collaborative Filtering (Matrix factorization, Count-based)"
   ]
  },
  {
   "cell_type": "code",
   "execution_count": 87,
   "metadata": {
    "execution": {
     "iopub.execute_input": "2024-03-13T11:22:51.701359Z",
     "iopub.status.busy": "2024-03-13T11:22:51.700925Z",
     "iopub.status.idle": "2024-03-13T11:22:51.722181Z",
     "shell.execute_reply": "2024-03-13T11:22:51.721034Z",
     "shell.execute_reply.started": "2024-03-13T11:22:51.701329Z"
    }
   },
   "outputs": [],
   "source": [
    "import numpy as np # linear algebra\n",
    "import pandas as pd # data processing, CSV file I/O (e.g. pd.read_csv)\n",
    "from sklearn.preprocessing import LabelEncoder\n",
    "from surprise import Reader, Dataset, SVD , SVDpp\n",
    "import matplotlib.pyplot as plt\n",
    "import pandas as pd\n",
    "from surprise import Dataset, Reader\n",
    "from surprise.model_selection import train_test_split\n",
    "from itertools import combinations\n",
    "from collections import defaultdict\n",
    "from surprise.model_selection.validation import cross_validate\n",
    "from surprise import SVD, KNNBasic\n",
    "from surprise import accuracy\n",
    "import os\n",
    "from surprise import BaselineOnly, Dataset, Reader\n",
    "from surprise.model_selection import cross_validate\n",
    "from surprise import Reader, Dataset, SVD\n",
    "from surprise import accuracy, Dataset, SVD\n",
    "from sklearn.metrics import mean_squared_error\n",
    "# from sklearn.metrics import root_mean_squared_error\n",
    "from surprise.model_selection import train_test_split\n",
    "from sklearn.metrics import precision_recall_fscore_support\n",
    "\n",
    "import os\n",
    "for dirname, _, filenames in os.walk('/kaggle/input/board-games-database-from-boardgamegeek/user_ratings.csv'):\n",
    "    for filename in filenames:\n",
    "        print(os.path.join(dirname, filename))"
   ]
  },
  {
   "cell_type": "markdown",
   "metadata": {
    "execution": {
     "iopub.execute_input": "2024-03-12T11:45:13.934293Z",
     "iopub.status.busy": "2024-03-12T11:45:13.933923Z",
     "iopub.status.idle": "2024-03-12T11:45:13.938778Z",
     "shell.execute_reply": "2024-03-12T11:45:13.937890Z",
     "shell.execute_reply.started": "2024-03-12T11:45:13.934264Z"
    }
   },
   "source": [
    "### Importing dataset"
   ]
  },
  {
   "cell_type": "code",
   "execution_count": 4,
   "metadata": {
    "execution": {
     "iopub.execute_input": "2024-03-13T08:21:06.215585Z",
     "iopub.status.busy": "2024-03-13T08:21:06.214894Z",
     "iopub.status.idle": "2024-03-13T08:21:07.154293Z",
     "shell.execute_reply": "2024-03-13T08:21:07.152622Z",
     "shell.execute_reply.started": "2024-03-13T08:21:06.215549Z"
    }
   },
   "outputs": [],
   "source": [
    "games = pd.read_csv(\"/kaggle/input/board-games-database-from-boardgamegeek/games.csv\")\n",
    "games = games[[\"BGGId\", \"Name\"]]"
   ]
  },
  {
   "cell_type": "code",
   "execution_count": 5,
   "metadata": {
    "execution": {
     "iopub.execute_input": "2024-03-13T08:21:11.670296Z",
     "iopub.status.busy": "2024-03-13T08:21:11.669866Z",
     "iopub.status.idle": "2024-03-13T08:21:32.082007Z",
     "shell.execute_reply": "2024-03-13T08:21:32.080553Z",
     "shell.execute_reply.started": "2024-03-13T08:21:11.670263Z"
    }
   },
   "outputs": [],
   "source": [
    "df = pd.read_csv(\"/kaggle/input/board-games-database-from-boardgamegeek/user_ratings.csv\")"
   ]
  },
  {
   "cell_type": "code",
   "execution_count": 6,
   "metadata": {
    "execution": {
     "iopub.execute_input": "2024-03-13T08:21:32.084252Z",
     "iopub.status.busy": "2024-03-13T08:21:32.083887Z",
     "iopub.status.idle": "2024-03-13T08:21:32.102105Z",
     "shell.execute_reply": "2024-03-13T08:21:32.100764Z",
     "shell.execute_reply.started": "2024-03-13T08:21:32.084222Z"
    }
   },
   "outputs": [
    {
     "data": {
      "text/html": [
       "<div>\n",
       "<style scoped>\n",
       "    .dataframe tbody tr th:only-of-type {\n",
       "        vertical-align: middle;\n",
       "    }\n",
       "\n",
       "    .dataframe tbody tr th {\n",
       "        vertical-align: top;\n",
       "    }\n",
       "\n",
       "    .dataframe thead th {\n",
       "        text-align: right;\n",
       "    }\n",
       "</style>\n",
       "<table border=\"1\" class=\"dataframe\">\n",
       "  <thead>\n",
       "    <tr style=\"text-align: right;\">\n",
       "      <th></th>\n",
       "      <th>BGGId</th>\n",
       "      <th>Rating</th>\n",
       "      <th>Username</th>\n",
       "    </tr>\n",
       "  </thead>\n",
       "  <tbody>\n",
       "    <tr>\n",
       "      <th>0</th>\n",
       "      <td>213788</td>\n",
       "      <td>8.0</td>\n",
       "      <td>Tonydorrf</td>\n",
       "    </tr>\n",
       "    <tr>\n",
       "      <th>1</th>\n",
       "      <td>213788</td>\n",
       "      <td>8.0</td>\n",
       "      <td>tachyon14k</td>\n",
       "    </tr>\n",
       "    <tr>\n",
       "      <th>2</th>\n",
       "      <td>213788</td>\n",
       "      <td>8.0</td>\n",
       "      <td>Ungotter</td>\n",
       "    </tr>\n",
       "    <tr>\n",
       "      <th>3</th>\n",
       "      <td>213788</td>\n",
       "      <td>8.0</td>\n",
       "      <td>brainlocki3</td>\n",
       "    </tr>\n",
       "    <tr>\n",
       "      <th>4</th>\n",
       "      <td>213788</td>\n",
       "      <td>8.0</td>\n",
       "      <td>PPMP</td>\n",
       "    </tr>\n",
       "  </tbody>\n",
       "</table>\n",
       "</div>"
      ],
      "text/plain": [
       "    BGGId  Rating     Username\n",
       "0  213788     8.0    Tonydorrf\n",
       "1  213788     8.0   tachyon14k\n",
       "2  213788     8.0     Ungotter\n",
       "3  213788     8.0  brainlocki3\n",
       "4  213788     8.0         PPMP"
      ]
     },
     "execution_count": 6,
     "metadata": {},
     "output_type": "execute_result"
    }
   ],
   "source": [
    "df.head()"
   ]
  },
  {
   "cell_type": "markdown",
   "metadata": {},
   "source": [
    "### Encoding Usernames"
   ]
  },
  {
   "cell_type": "code",
   "execution_count": 7,
   "metadata": {
    "execution": {
     "iopub.execute_input": "2024-03-13T08:21:34.406022Z",
     "iopub.status.busy": "2024-03-13T08:21:34.405614Z",
     "iopub.status.idle": "2024-03-13T08:21:59.920058Z",
     "shell.execute_reply": "2024-03-13T08:21:59.918186Z",
     "shell.execute_reply.started": "2024-03-13T08:21:34.405993Z"
    }
   },
   "outputs": [],
   "source": [
    "label_encoder = LabelEncoder()\n",
    "df['userId'] = label_encoder.fit_transform(df['Username'])"
   ]
  },
  {
   "cell_type": "code",
   "execution_count": 8,
   "metadata": {
    "execution": {
     "iopub.execute_input": "2024-03-13T08:21:59.923409Z",
     "iopub.status.busy": "2024-03-13T08:21:59.922917Z",
     "iopub.status.idle": "2024-03-13T08:22:00.234387Z",
     "shell.execute_reply": "2024-03-13T08:22:00.233194Z",
     "shell.execute_reply.started": "2024-03-13T08:21:59.923366Z"
    }
   },
   "outputs": [],
   "source": [
    "df = df.drop(columns=[\"Username\"])"
   ]
  },
  {
   "cell_type": "code",
   "execution_count": 9,
   "metadata": {
    "execution": {
     "iopub.execute_input": "2024-03-13T08:22:00.236197Z",
     "iopub.status.busy": "2024-03-13T08:22:00.235738Z",
     "iopub.status.idle": "2024-03-13T08:22:00.572169Z",
     "shell.execute_reply": "2024-03-13T08:22:00.571067Z",
     "shell.execute_reply.started": "2024-03-13T08:22:00.236156Z"
    }
   },
   "outputs": [],
   "source": [
    "cols = df.columns.tolist()\n",
    "cols[0], cols[2] = cols[2], cols[0]\n",
    "df = df[cols]"
   ]
  },
  {
   "cell_type": "code",
   "execution_count": 10,
   "metadata": {
    "execution": {
     "iopub.execute_input": "2024-03-13T08:22:00.574894Z",
     "iopub.status.busy": "2024-03-13T08:22:00.574504Z",
     "iopub.status.idle": "2024-03-13T08:22:00.847562Z",
     "shell.execute_reply": "2024-03-13T08:22:00.846217Z",
     "shell.execute_reply.started": "2024-03-13T08:22:00.574863Z"
    }
   },
   "outputs": [],
   "source": [
    "cols = df.columns.tolist()\n",
    "cols[1], cols[2] = cols[2], cols[1]\n",
    "df = df[cols]"
   ]
  },
  {
   "cell_type": "markdown",
   "metadata": {},
   "source": [
    "### Rating Distribution"
   ]
  },
  {
   "cell_type": "code",
   "execution_count": 11,
   "metadata": {
    "execution": {
     "iopub.execute_input": "2024-03-13T08:22:00.849493Z",
     "iopub.status.busy": "2024-03-13T08:22:00.849143Z",
     "iopub.status.idle": "2024-03-13T08:22:01.883937Z",
     "shell.execute_reply": "2024-03-13T08:22:01.882751Z",
     "shell.execute_reply.started": "2024-03-13T08:22:00.849464Z"
    }
   },
   "outputs": [
    {
     "data": {
      "image/png": "[encoded data removed]",
      "text/plain": [
       "<Figure size 640x480 with 1 Axes>"
      ]
     },
     "metadata": {},
     "output_type": "display_data"
    }
   ],
   "source": [
    "plt.hist(df['Rating'], bins=range(int(df['Rating'].min()), int(df['Rating'].max()) + 2), edgecolor='black')\n",
    "plt.xlabel('Rating')\n",
    "plt.ylabel('Frequency')\n",
    "plt.title('Distribution of Ratings')\n",
    "plt.xticks(range(int(df['Rating'].min()) , int(df['Rating'].max()) + 1))\n",
    "plt.grid(False)\n",
    "plt.show()"
   ]
  },
  {
   "cell_type": "markdown",
   "metadata": {},
   "source": [
    "### SVD - Matrix Factorization"
   ]
  },
  {
   "cell_type": "markdown",
   "metadata": {},
   "source": [
    "### Now I will use the Surpise library for the SVD analysis since the dataset was large and classic SVD using matrix needed excess computational power"
   ]
  },
  {
   "cell_type": "code",
   "execution_count": 12,
   "metadata": {
    "execution": {
     "iopub.execute_input": "2024-03-13T08:22:13.110433Z",
     "iopub.status.busy": "2024-03-13T08:22:13.109984Z",
     "iopub.status.idle": "2024-03-13T08:22:13.208225Z",
     "shell.execute_reply": "2024-03-13T08:22:13.207019Z",
     "shell.execute_reply.started": "2024-03-13T08:22:13.110399Z"
    }
   },
   "outputs": [
    {
     "name": "stdout",
     "output_type": "stream",
     "text": [
      "Minimum Rating: 0.0001\n",
      "Maximum Rating: 10.0\n"
     ]
    }
   ],
   "source": [
    "min_rating = df['Rating'].min()\n",
    "max_rating = df['Rating'].max()\n",
    "\n",
    "print(\"Minimum Rating:\", min_rating)\n",
    "print(\"Maximum Rating:\", max_rating)"
   ]
  },
  {
   "cell_type": "code",
   "execution_count": 13,
   "metadata": {
    "execution": {
     "iopub.execute_input": "2024-03-13T08:22:14.422273Z",
     "iopub.status.busy": "2024-03-13T08:22:14.421325Z",
     "iopub.status.idle": "2024-03-13T08:22:46.572747Z",
     "shell.execute_reply": "2024-03-13T08:22:46.571307Z",
     "shell.execute_reply.started": "2024-03-13T08:22:14.422216Z"
    }
   },
   "outputs": [],
   "source": [
    "# Load Reader library\n",
    "reader = Reader(rating_scale=(min_rating, max_rating))\n",
    "\n",
    "# Load ratings dataset with Dataset library\n",
    "data = Dataset.load_from_df(df[['userId', 'BGGId', 'Rating']], reader)"
   ]
  },
  {
   "cell_type": "markdown",
   "metadata": {
    "execution": {
     "iopub.execute_input": "2024-03-12T12:37:55.103196Z",
     "iopub.status.busy": "2024-03-12T12:37:55.102722Z",
     "iopub.status.idle": "2024-03-12T12:37:55.109801Z",
     "shell.execute_reply": "2024-03-12T12:37:55.108122Z",
     "shell.execute_reply.started": "2024-03-12T12:37:55.103163Z"
    }
   },
   "source": [
    "### Cross Validation"
   ]
  },
  {
   "cell_type": "code",
   "execution_count": 18,
   "metadata": {
    "execution": {
     "iopub.execute_input": "2024-03-13T09:00:01.336129Z",
     "iopub.status.busy": "2024-03-13T09:00:01.335762Z",
     "iopub.status.idle": "2024-03-13T10:05:21.479476Z",
     "shell.execute_reply": "2024-03-13T10:05:21.478441Z",
     "shell.execute_reply.started": "2024-03-13T09:00:01.336101Z"
    },
    "scrolled": true
   },
   "outputs": [
    {
     "name": "stdout",
     "output_type": "stream",
     "text": [
      "Processing epoch 0\n",
      "Processing epoch 1\n",
      "Processing epoch 2\n",
      "Processing epoch 3\n",
      "Processing epoch 4\n",
      "Processing epoch 5\n",
      "Processing epoch 6\n",
      "Processing epoch 7\n",
      "Processing epoch 8\n",
      "Processing epoch 9\n",
      "Processing epoch 10\n",
      "Processing epoch 11\n",
      "Processing epoch 12\n",
      "Processing epoch 13\n",
      "Processing epoch 14\n",
      "Processing epoch 15\n",
      "Processing epoch 16\n",
      "Processing epoch 17\n",
      "Processing epoch 18\n",
      "Processing epoch 19\n",
      "Processing epoch 0\n",
      "Processing epoch 1\n",
      "Processing epoch 2\n",
      "Processing epoch 3\n",
      "Processing epoch 4\n",
      "Processing epoch 5\n",
      "Processing epoch 6\n",
      "Processing epoch 7\n",
      "Processing epoch 8\n",
      "Processing epoch 9\n",
      "Processing epoch 10\n",
      "Processing epoch 11\n",
      "Processing epoch 12\n",
      "Processing epoch 13\n",
      "Processing epoch 14\n",
      "Processing epoch 15\n",
      "Processing epoch 16\n",
      "Processing epoch 17\n",
      "Processing epoch 18\n",
      "Processing epoch 19\n",
      "Processing epoch 0\n",
      "Processing epoch 1\n",
      "Processing epoch 2\n",
      "Processing epoch 3\n",
      "Processing epoch 4\n",
      "Processing epoch 5\n",
      "Processing epoch 6\n",
      "Processing epoch 7\n",
      "Processing epoch 8\n",
      "Processing epoch 9\n",
      "Processing epoch 10\n",
      "Processing epoch 11\n",
      "Processing epoch 12\n",
      "Processing epoch 13\n",
      "Processing epoch 14\n",
      "Processing epoch 15\n",
      "Processing epoch 16\n",
      "Processing epoch 17\n",
      "Processing epoch 18\n",
      "Processing epoch 19\n",
      "Processing epoch 0\n",
      "Processing epoch 1\n",
      "Processing epoch 2\n",
      "Processing epoch 3\n",
      "Processing epoch 4\n",
      "Processing epoch 5\n",
      "Processing epoch 6\n",
      "Processing epoch 7\n",
      "Processing epoch 8\n",
      "Processing epoch 9\n",
      "Processing epoch 10\n",
      "Processing epoch 11\n",
      "Processing epoch 12\n",
      "Processing epoch 13\n",
      "Processing epoch 14\n",
      "Processing epoch 15\n",
      "Processing epoch 16\n",
      "Processing epoch 17\n",
      "Processing epoch 18\n",
      "Processing epoch 19\n",
      "Processing epoch 0\n",
      "Processing epoch 1\n",
      "Processing epoch 2\n",
      "Processing epoch 3\n",
      "Processing epoch 4\n",
      "Processing epoch 5\n",
      "Processing epoch 6\n",
      "Processing epoch 7\n",
      "Processing epoch 8\n",
      "Processing epoch 9\n",
      "Processing epoch 10\n",
      "Processing epoch 11\n",
      "Processing epoch 12\n",
      "Processing epoch 13\n",
      "Processing epoch 14\n",
      "Processing epoch 15\n",
      "Processing epoch 16\n",
      "Processing epoch 17\n",
      "Processing epoch 18\n",
      "Processing epoch 19\n",
      "Evaluating RMSE of algorithm SVD on 5 split(s).\n",
      "\n",
      "                  Fold 1  Fold 2  Fold 3  Fold 4  Fold 5  Mean    Std     \n",
      "RMSE (testset)    1.2954  1.2997  1.2955  1.3030  1.2996  1.2986  0.0029  \n",
      "Fit time          33.67   35.21   34.49   35.10   34.51   34.60   0.55    \n",
      "Test time         5.33    5.25    6.63    6.59    6.62    6.08    0.65    \n",
      " processing epoch 0\n",
      " processing epoch 1\n",
      " processing epoch 2\n",
      " processing epoch 3\n",
      " processing epoch 4\n",
      " processing epoch 5\n",
      " processing epoch 6\n",
      " processing epoch 7\n",
      " processing epoch 8\n",
      " processing epoch 9\n",
      " processing epoch 10\n",
      " processing epoch 11\n",
      " processing epoch 12\n",
      " processing epoch 13\n",
      " processing epoch 14\n",
      " processing epoch 15\n",
      " processing epoch 16\n",
      " processing epoch 17\n",
      " processing epoch 18\n",
      " processing epoch 19\n",
      " processing epoch 0\n",
      " processing epoch 1\n",
      " processing epoch 2\n",
      " processing epoch 3\n",
      " processing epoch 4\n",
      " processing epoch 5\n",
      " processing epoch 6\n",
      " processing epoch 7\n",
      " processing epoch 8\n",
      " processing epoch 9\n",
      " processing epoch 10\n",
      " processing epoch 11\n",
      " processing epoch 12\n",
      " processing epoch 13\n",
      " processing epoch 14\n",
      " processing epoch 15\n",
      " processing epoch 16\n",
      " processing epoch 17\n",
      " processing epoch 18\n",
      " processing epoch 19\n",
      " processing epoch 0\n",
      " processing epoch 1\n",
      " processing epoch 2\n",
      " processing epoch 3\n",
      " processing epoch 4\n",
      " processing epoch 5\n",
      " processing epoch 6\n",
      " processing epoch 7\n",
      " processing epoch 8\n",
      " processing epoch 9\n",
      " processing epoch 10\n",
      " processing epoch 11\n",
      " processing epoch 12\n",
      " processing epoch 13\n",
      " processing epoch 14\n",
      " processing epoch 15\n",
      " processing epoch 16\n",
      " processing epoch 17\n",
      " processing epoch 18\n",
      " processing epoch 19\n",
      " processing epoch 0\n",
      " processing epoch 1\n",
      " processing epoch 2\n",
      " processing epoch 3\n",
      " processing epoch 4\n",
      " processing epoch 5\n",
      " processing epoch 6\n",
      " processing epoch 7\n",
      " processing epoch 8\n",
      " processing epoch 9\n",
      " processing epoch 10\n",
      " processing epoch 11\n",
      " processing epoch 12\n",
      " processing epoch 13\n",
      " processing epoch 14\n",
      " processing epoch 15\n",
      " processing epoch 16\n",
      " processing epoch 17\n",
      " processing epoch 18\n",
      " processing epoch 19\n",
      " processing epoch 0\n",
      " processing epoch 1\n",
      " processing epoch 2\n",
      " processing epoch 3\n",
      " processing epoch 4\n",
      " processing epoch 5\n",
      " processing epoch 6\n",
      " processing epoch 7\n",
      " processing epoch 8\n",
      " processing epoch 9\n",
      " processing epoch 10\n",
      " processing epoch 11\n",
      " processing epoch 12\n",
      " processing epoch 13\n",
      " processing epoch 14\n",
      " processing epoch 15\n",
      " processing epoch 16\n",
      " processing epoch 17\n",
      " processing epoch 18\n",
      " processing epoch 19\n",
      "Evaluating RMSE of algorithm SVDpp on 5 split(s).\n",
      "\n",
      "                  Fold 1  Fold 2  Fold 3  Fold 4  Fold 5  Mean    Std     \n",
      "RMSE (testset)    1.2984  1.2952  1.2962  1.2964  1.2999  1.2972  0.0017  \n",
      "Fit time          701.81  698.99  698.62  702.56  697.25  699.85  2.01    \n",
      "Test time         28.14   27.92   28.10   27.87   28.02   28.01   0.10    \n"
     ]
    },
    {
     "data": {
      "text/plain": [
       "{'test_rmse': array([1.29836092, 1.29522551, 1.29617927, 1.29641252, 1.29989882]),\n",
       " 'fit_time': (701.8148283958435,\n",
       "  698.989349603653,\n",
       "  698.6185834407806,\n",
       "  702.5575323104858,\n",
       "  697.2489113807678),\n",
       " 'test_time': (28.14454460144043,\n",
       "  27.920510053634644,\n",
       "  28.098821878433228,\n",
       "  27.87234330177307,\n",
       "  28.016515493392944)}"
      ]
     },
     "execution_count": 18,
     "metadata": {},
     "output_type": "execute_result"
    }
   ],
   "source": [
    "# Use the SVD algorithm.\n",
    "svd = SVD(n_factors=100, n_epochs=20,random_state = 123,verbose = True , lr_all = 0.01)\n",
    "svdpp = SVDpp(n_factors=100, n_epochs=20,random_state = 123,verbose = True, lr_all = 0.01)\n",
    "\n",
    "subset_df = df.sample(frac=0.1, random_state=42)\n",
    "val_data = Dataset.load_from_df(subset_df[['userId', 'BGGId', 'Rating']], reader)\n",
    "\n",
    "# # Compute the RMSE of the SVD algorithm.\n",
    "cross_validate(svd, val_data, measures=['RMSE'],cv=5,verbose=True)\n",
    "cross_validate(svdpp, val_data, measures=['RMSE'],cv=5,verbose=True)"
   ]
  },
  {
   "cell_type": "markdown",
   "metadata": {
    "execution": {
     "iopub.execute_input": "2024-03-13T10:05:21.481750Z",
     "iopub.status.busy": "2024-03-13T10:05:21.481407Z",
     "iopub.status.idle": "2024-03-13T10:05:21.486121Z",
     "shell.execute_reply": "2024-03-13T10:05:21.485054Z",
     "shell.execute_reply.started": "2024-03-13T10:05:21.481722Z"
    }
   },
   "source": [
    "### As we can see from the results of cross validation, the SVD seem to has better RMSE score so I will try this model from the predictions.\n",
    "### SVD train test split, fit, check RMSE"
   ]
  },
  {
   "cell_type": "code",
   "execution_count": 20,
   "metadata": {
    "execution": {
     "iopub.execute_input": "2024-03-13T10:05:21.487861Z",
     "iopub.status.busy": "2024-03-13T10:05:21.487458Z",
     "iopub.status.idle": "2024-03-13T10:06:26.272967Z",
     "shell.execute_reply": "2024-03-13T10:06:26.271877Z",
     "shell.execute_reply.started": "2024-03-13T10:05:21.487832Z"
    }
   },
   "outputs": [],
   "source": [
    "trainset, testset = train_test_split(data, test_size=0.2)"
   ]
  },
  {
   "cell_type": "code",
   "execution_count": 21,
   "metadata": {
    "execution": {
     "iopub.execute_input": "2024-03-13T10:06:26.275151Z",
     "iopub.status.busy": "2024-03-13T10:06:26.274829Z",
     "iopub.status.idle": "2024-03-13T10:13:31.681382Z",
     "shell.execute_reply": "2024-03-13T10:13:31.680302Z",
     "shell.execute_reply.started": "2024-03-13T10:06:26.275125Z"
    },
    "scrolled": true
   },
   "outputs": [
    {
     "name": "stdout",
     "output_type": "stream",
     "text": [
      "Processing epoch 0\n",
      "Processing epoch 1\n",
      "Processing epoch 2\n",
      "Processing epoch 3\n",
      "Processing epoch 4\n",
      "Processing epoch 5\n",
      "Processing epoch 6\n",
      "Processing epoch 7\n",
      "Processing epoch 8\n",
      "Processing epoch 9\n",
      "Processing epoch 10\n",
      "Processing epoch 11\n",
      "Processing epoch 12\n",
      "Processing epoch 13\n",
      "Processing epoch 14\n",
      "Processing epoch 15\n",
      "Processing epoch 16\n",
      "Processing epoch 17\n",
      "Processing epoch 18\n",
      "Processing epoch 19\n"
     ]
    }
   ],
   "source": [
    "svd = SVD(n_factors=100, n_epochs=20,verbose = True)\n",
    "svd.fit(trainset)\n",
    "predictions_svd_total = svd.test(testset)"
   ]
  },
  {
   "cell_type": "code",
   "execution_count": 23,
   "metadata": {
    "execution": {
     "iopub.execute_input": "2024-03-13T10:24:08.060788Z",
     "iopub.status.busy": "2024-03-13T10:24:08.060310Z",
     "iopub.status.idle": "2024-03-13T10:24:11.853517Z",
     "shell.execute_reply": "2024-03-13T10:24:11.852449Z",
     "shell.execute_reply.started": "2024-03-13T10:24:08.060752Z"
    }
   },
   "outputs": [
    {
     "name": "stdout",
     "output_type": "stream",
     "text": [
      "RMSE: 1.2121\n"
     ]
    },
    {
     "data": {
      "text/plain": [
       "1.2120721922383484"
      ]
     },
     "execution_count": 23,
     "metadata": {},
     "output_type": "execute_result"
    }
   ],
   "source": [
    "accuracy.rmse(predictions_svd_total)"
   ]
  },
  {
   "cell_type": "markdown",
   "metadata": {},
   "source": [
    "### The following is for the actual recommendations per user and a check of RMSE for "
   ]
  },
  {
   "cell_type": "code",
   "execution_count": 25,
   "metadata": {
    "execution": {
     "iopub.execute_input": "2024-03-13T10:29:42.424543Z",
     "iopub.status.busy": "2024-03-13T10:29:42.424145Z",
     "iopub.status.idle": "2024-03-13T10:29:42.436222Z",
     "shell.execute_reply": "2024-03-13T10:29:42.434574Z",
     "shell.execute_reply.started": "2024-03-13T10:29:42.424515Z"
    }
   },
   "outputs": [],
   "source": [
    "def recommend_surprise(uid:int,\n",
    "              ratings_df:pd.core.frame.DataFrame,\n",
    "              model,\n",
    "              movies_df:np.ndarray,\n",
    "              rec_num:int\n",
    "             ):\n",
    "\n",
    "    #get all the ratings by this user\n",
    "    my_ratings=ratings_df[ratings_df.userId==uid]\n",
    "\n",
    "    #zip the ratings into a dict\n",
    "    already_rated=dict(zip(my_ratings.BGGId,my_ratings.Rating))\n",
    "\n",
    "    pred_dict={}# store predicted ratings\n",
    "\n",
    "    for index,row in movies_df.iterrows(): # for every movie \n",
    "\n",
    "        pred_dict[row.BGGId]=svd.predict(uid=uid,iid= row.BGGId).est# get the pred for this user\n",
    "        \n",
    "    # sort the movies by predicted ratings\n",
    "    srt=sorted(pred_dict.items(),key=lambda x:x[1],reverse=True)\n",
    "    \n",
    "    rec_set=set()# set of movie ids to be recommended\n",
    "    \n",
    "    for mid,pred in srt: # for each movie id \n",
    "        if mid not in already_rated: # movie has not already been rated\n",
    "            \n",
    "            rec_set.add(mid) # add to the set\n",
    "            \n",
    "            if len(rec_set)==rec_num:break \n",
    "       \n",
    "    # make a data frame with only the recommended movies \n",
    "    rec_df=pd.DataFrame(movies_df[movies_df.BGGId.isin(rec_set)])\n",
    "    \n",
    "    #add the predicted rating as a new column\n",
    "    rec_df['predicted_rating']=rec_df['BGGId'].map(pred_dict)\n",
    "    \n",
    "    #sort the df by the new col\n",
    "    rec_df=rec_df.sort_values(['predicted_rating'], ascending=False)\n",
    "\n",
    "    return rec_df"
   ]
  },
  {
   "cell_type": "code",
   "execution_count": 38,
   "metadata": {
    "execution": {
     "iopub.execute_input": "2024-03-13T10:33:13.692102Z",
     "iopub.status.busy": "2024-03-13T10:33:13.691496Z",
     "iopub.status.idle": "2024-03-13T10:33:13.708972Z",
     "shell.execute_reply": "2024-03-13T10:33:13.707611Z",
     "shell.execute_reply.started": "2024-03-13T10:33:13.692045Z"
    }
   },
   "outputs": [],
   "source": [
    "def validate(uid:int,\n",
    "              ratings_df:pd.core.frame.DataFrame,\n",
    "              model,\n",
    "              movies_df:np.ndarray\n",
    "             ):\n",
    "\n",
    "    #get all the ratings by this user\n",
    "    my_ratings=ratings_df[ratings_df.userId==uid]\n",
    "\n",
    "    #zip the ratings into a dict\n",
    "    already_rated=dict(zip(my_ratings.BGGId,my_ratings.Rating))\n",
    "\n",
    "    pred_dict={}# store predicted ratings\n",
    "\n",
    "    for index,row in movies_df.iterrows(): # for every movie \n",
    "\n",
    "        pred_dict[row.BGGId]=svd.predict(uid=uid,iid= row.BGGId).est# get the pred for this user\n",
    "        \n",
    "    actual,pred=[],[]\n",
    "    for mid in already_rated: # for each movie id \n",
    "        actual.append(already_rated[mid])\n",
    "        pred.append(pred_dict[mid])\n",
    "    \n",
    "    return np.sqrt(mean_squared_error(actual,pred,squared=False))"
   ]
  },
  {
   "cell_type": "code",
   "execution_count": 39,
   "metadata": {
    "execution": {
     "iopub.execute_input": "2024-03-13T10:33:15.476832Z",
     "iopub.status.busy": "2024-03-13T10:33:15.475664Z",
     "iopub.status.idle": "2024-03-13T10:33:17.609091Z",
     "shell.execute_reply": "2024-03-13T10:33:17.607956Z",
     "shell.execute_reply.started": "2024-03-13T10:33:15.476792Z"
    }
   },
   "outputs": [
    {
     "data": {
      "text/html": [
       "<div>\n",
       "<style scoped>\n",
       "    .dataframe tbody tr th:only-of-type {\n",
       "        vertical-align: middle;\n",
       "    }\n",
       "\n",
       "    .dataframe tbody tr th {\n",
       "        vertical-align: top;\n",
       "    }\n",
       "\n",
       "    .dataframe thead th {\n",
       "        text-align: right;\n",
       "    }\n",
       "</style>\n",
       "<table border=\"1\" class=\"dataframe\">\n",
       "  <thead>\n",
       "    <tr style=\"text-align: right;\">\n",
       "      <th></th>\n",
       "      <th>BGGId</th>\n",
       "      <th>Name</th>\n",
       "      <th>predicted_rating</th>\n",
       "    </tr>\n",
       "  </thead>\n",
       "  <tbody>\n",
       "    <tr>\n",
       "      <th>9398</th>\n",
       "      <td>55690</td>\n",
       "      <td>Kingdom Death: Monster</td>\n",
       "      <td>9.962101</td>\n",
       "    </tr>\n",
       "    <tr>\n",
       "      <th>18560</th>\n",
       "      <td>246900</td>\n",
       "      <td>Eclipse: Second Dawn for the Galaxy</td>\n",
       "      <td>9.527105</td>\n",
       "    </tr>\n",
       "    <tr>\n",
       "      <th>20366</th>\n",
       "      <td>284121</td>\n",
       "      <td>Uprising: Curse of the Last Emperor</td>\n",
       "      <td>9.521973</td>\n",
       "    </tr>\n",
       "    <tr>\n",
       "      <th>21896</th>\n",
       "      <td>342942</td>\n",
       "      <td>Ark Nova</td>\n",
       "      <td>9.517983</td>\n",
       "    </tr>\n",
       "    <tr>\n",
       "      <th>21915</th>\n",
       "      <td>345976</td>\n",
       "      <td>System Gateway (fan expansion for Android: Net...</td>\n",
       "      <td>9.472361</td>\n",
       "    </tr>\n",
       "    <tr>\n",
       "      <th>14901</th>\n",
       "      <td>180263</td>\n",
       "      <td>The 7th Continent</td>\n",
       "      <td>9.431222</td>\n",
       "    </tr>\n",
       "    <tr>\n",
       "      <th>17834</th>\n",
       "      <td>233078</td>\n",
       "      <td>Twilight Imperium: Fourth Edition</td>\n",
       "      <td>9.418143</td>\n",
       "    </tr>\n",
       "    <tr>\n",
       "      <th>14509</th>\n",
       "      <td>174430</td>\n",
       "      <td>Gloomhaven</td>\n",
       "      <td>9.378212</td>\n",
       "    </tr>\n",
       "    <tr>\n",
       "      <th>20830</th>\n",
       "      <td>295785</td>\n",
       "      <td>Euthia: Torment of Resurrection</td>\n",
       "      <td>9.369342</td>\n",
       "    </tr>\n",
       "    <tr>\n",
       "      <th>17329</th>\n",
       "      <td>224517</td>\n",
       "      <td>Brass: Birmingham</td>\n",
       "      <td>9.360065</td>\n",
       "    </tr>\n",
       "  </tbody>\n",
       "</table>\n",
       "</div>"
      ],
      "text/plain": [
       "        BGGId                                               Name  \\\n",
       "9398    55690                             Kingdom Death: Monster   \n",
       "18560  246900                Eclipse: Second Dawn for the Galaxy   \n",
       "20366  284121                Uprising: Curse of the Last Emperor   \n",
       "21896  342942                                           Ark Nova   \n",
       "21915  345976  System Gateway (fan expansion for Android: Net...   \n",
       "14901  180263                                  The 7th Continent   \n",
       "17834  233078                  Twilight Imperium: Fourth Edition   \n",
       "14509  174430                                         Gloomhaven   \n",
       "20830  295785                    Euthia: Torment of Resurrection   \n",
       "17329  224517                                  Brass: Birmingham   \n",
       "\n",
       "       predicted_rating  \n",
       "9398           9.962101  \n",
       "18560          9.527105  \n",
       "20366          9.521973  \n",
       "21896          9.517983  \n",
       "21915          9.472361  \n",
       "14901          9.431222  \n",
       "17834          9.418143  \n",
       "14509          9.378212  \n",
       "20830          9.369342  \n",
       "17329          9.360065  "
      ]
     },
     "execution_count": 39,
     "metadata": {},
     "output_type": "execute_result"
    }
   ],
   "source": [
    "recommend_surprise(1,df,svd,games,10)"
   ]
  },
  {
   "cell_type": "code",
   "execution_count": 47,
   "metadata": {
    "execution": {
     "iopub.execute_input": "2024-03-13T11:04:55.552365Z",
     "iopub.status.busy": "2024-03-13T11:04:55.551435Z",
     "iopub.status.idle": "2024-03-13T11:04:57.816955Z",
     "shell.execute_reply": "2024-03-13T11:04:57.815767Z",
     "shell.execute_reply.started": "2024-03-13T11:04:55.552330Z"
    },
    "scrolled": true
   },
   "outputs": [
    {
     "name": "stdout",
     "output_type": "stream",
     "text": [
      "The RMSE of the predictions for the user 1:  0.7457465417678942\n"
     ]
    }
   ],
   "source": [
    "print(\"The RMSE of the predictions for the user 1: \",validate(1,df,svd,games))"
   ]
  },
  {
   "cell_type": "markdown",
   "metadata": {
    "execution": {
     "iopub.execute_input": "2024-02-19T11:31:36.034975Z",
     "iopub.status.busy": "2024-02-19T11:31:36.034460Z",
     "iopub.status.idle": "2024-02-19T11:31:36.041418Z",
     "shell.execute_reply": "2024-02-19T11:31:36.039766Z",
     "shell.execute_reply.started": "2024-02-19T11:31:36.034938Z"
    }
   },
   "source": [
    "### Try Baseline and KNN"
   ]
  },
  {
   "cell_type": "markdown",
   "metadata": {},
   "source": [
    "### Need to keep a part of the dataset and will not do it randomly but I will keep those with more the 1000 ratings so there will be patterns in the dataset for the algorythm to recognise"
   ]
  },
  {
   "cell_type": "code",
   "execution_count": 48,
   "metadata": {
    "execution": {
     "iopub.execute_input": "2024-03-13T11:05:42.573642Z",
     "iopub.status.busy": "2024-03-13T11:05:42.573227Z",
     "iopub.status.idle": "2024-03-13T11:05:44.408992Z",
     "shell.execute_reply": "2024-03-13T11:05:44.407759Z",
     "shell.execute_reply.started": "2024-03-13T11:05:42.573610Z"
    }
   },
   "outputs": [],
   "source": [
    "least_ratings = 1000\n",
    "rating_counts = df['userId'].value_counts()\n",
    "users_with_least_ratings = rating_counts[rating_counts >= least_ratings].index\n",
    "df = df[df['userId'].isin(users_with_least_ratings)]"
   ]
  },
  {
   "cell_type": "code",
   "execution_count": 50,
   "metadata": {
    "execution": {
     "iopub.execute_input": "2024-03-13T11:05:54.126554Z",
     "iopub.status.busy": "2024-03-13T11:05:54.126083Z",
     "iopub.status.idle": "2024-03-13T11:05:54.141148Z",
     "shell.execute_reply": "2024-03-13T11:05:54.139668Z",
     "shell.execute_reply.started": "2024-03-13T11:05:54.126520Z"
    }
   },
   "outputs": [
    {
     "data": {
      "text/html": [
       "<div>\n",
       "<style scoped>\n",
       "    .dataframe tbody tr th:only-of-type {\n",
       "        vertical-align: middle;\n",
       "    }\n",
       "\n",
       "    .dataframe tbody tr th {\n",
       "        vertical-align: top;\n",
       "    }\n",
       "\n",
       "    .dataframe thead th {\n",
       "        text-align: right;\n",
       "    }\n",
       "</style>\n",
       "<table border=\"1\" class=\"dataframe\">\n",
       "  <thead>\n",
       "    <tr style=\"text-align: right;\">\n",
       "      <th></th>\n",
       "      <th>userId</th>\n",
       "      <th>BGGId</th>\n",
       "      <th>Rating</th>\n",
       "    </tr>\n",
       "  </thead>\n",
       "  <tbody>\n",
       "    <tr>\n",
       "      <th>18</th>\n",
       "      <td>260509</td>\n",
       "      <td>213788</td>\n",
       "      <td>7.5</td>\n",
       "    </tr>\n",
       "    <tr>\n",
       "      <th>29</th>\n",
       "      <td>382190</td>\n",
       "      <td>213788</td>\n",
       "      <td>7.0</td>\n",
       "    </tr>\n",
       "    <tr>\n",
       "      <th>57</th>\n",
       "      <td>159361</td>\n",
       "      <td>213788</td>\n",
       "      <td>6.5</td>\n",
       "    </tr>\n",
       "    <tr>\n",
       "      <th>70</th>\n",
       "      <td>140274</td>\n",
       "      <td>213788</td>\n",
       "      <td>5.0</td>\n",
       "    </tr>\n",
       "    <tr>\n",
       "      <th>72</th>\n",
       "      <td>287225</td>\n",
       "      <td>213788</td>\n",
       "      <td>4.0</td>\n",
       "    </tr>\n",
       "  </tbody>\n",
       "</table>\n",
       "</div>"
      ],
      "text/plain": [
       "    userId   BGGId  Rating\n",
       "18  260509  213788     7.5\n",
       "29  382190  213788     7.0\n",
       "57  159361  213788     6.5\n",
       "70  140274  213788     5.0\n",
       "72  287225  213788     4.0"
      ]
     },
     "execution_count": 50,
     "metadata": {},
     "output_type": "execute_result"
    }
   ],
   "source": [
    "df.head()"
   ]
  },
  {
   "cell_type": "code",
   "execution_count": 51,
   "metadata": {
    "execution": {
     "iopub.execute_input": "2024-03-13T11:05:56.686959Z",
     "iopub.status.busy": "2024-03-13T11:05:56.686503Z",
     "iopub.status.idle": "2024-03-13T11:05:56.715039Z",
     "shell.execute_reply": "2024-03-13T11:05:56.713670Z",
     "shell.execute_reply.started": "2024-03-13T11:05:56.686925Z"
    }
   },
   "outputs": [],
   "source": [
    "df = df.reset_index(drop=True)"
   ]
  },
  {
   "cell_type": "code",
   "execution_count": 52,
   "metadata": {
    "execution": {
     "iopub.execute_input": "2024-03-13T11:05:57.459763Z",
     "iopub.status.busy": "2024-03-13T11:05:57.459351Z",
     "iopub.status.idle": "2024-03-13T11:05:59.073192Z",
     "shell.execute_reply": "2024-03-13T11:05:59.071895Z",
     "shell.execute_reply.started": "2024-03-13T11:05:57.459733Z"
    }
   },
   "outputs": [],
   "source": [
    "min_rating = df['Rating'].min()\n",
    "max_rating = df['Rating'].max()\n",
    "\n",
    "reader = Reader(rating_scale=(min_rating, max_rating))\n",
    "data = Dataset.load_from_df(df[['userId', 'BGGId', 'Rating']], reader)"
   ]
  },
  {
   "cell_type": "code",
   "execution_count": 53,
   "metadata": {
    "execution": {
     "iopub.execute_input": "2024-03-13T11:06:05.139637Z",
     "iopub.status.busy": "2024-03-13T11:06:05.139236Z",
     "iopub.status.idle": "2024-03-13T11:06:07.209525Z",
     "shell.execute_reply": "2024-03-13T11:06:07.208483Z",
     "shell.execute_reply.started": "2024-03-13T11:06:05.139608Z"
    }
   },
   "outputs": [],
   "source": [
    "trainset, testset = train_test_split(data, test_size=0.2)"
   ]
  },
  {
   "cell_type": "code",
   "execution_count": 54,
   "metadata": {
    "execution": {
     "iopub.execute_input": "2024-03-13T11:06:07.211618Z",
     "iopub.status.busy": "2024-03-13T11:06:07.211271Z",
     "iopub.status.idle": "2024-03-13T11:08:02.112807Z",
     "shell.execute_reply": "2024-03-13T11:08:02.110898Z",
     "shell.execute_reply.started": "2024-03-13T11:06:07.211588Z"
    }
   },
   "outputs": [
    {
     "name": "stdout",
     "output_type": "stream",
     "text": [
      "Estimating biases using als...\n",
      "Computing the msd similarity matrix...\n",
      "Done computing similarity matrix.\n"
     ]
    }
   ],
   "source": [
    "baseline = BaselineOnly()\n",
    "baseline.fit(trainset)\n",
    "predictions_baseline = baseline.test(testset)\n",
    "svd = SVD()\n",
    "svd.fit(trainset)\n",
    "predictions_svd = svd.test(testset)\n",
    "knn = KNNBasic()\n",
    "knn.fit(trainset)\n",
    "predictions_knn = knn.test(testset)"
   ]
  },
  {
   "cell_type": "code",
   "execution_count": 57,
   "metadata": {
    "execution": {
     "iopub.execute_input": "2024-03-13T11:08:26.871438Z",
     "iopub.status.busy": "2024-03-13T11:08:26.871033Z",
     "iopub.status.idle": "2024-03-13T11:08:27.470473Z",
     "shell.execute_reply": "2024-03-13T11:08:27.469383Z",
     "shell.execute_reply.started": "2024-03-13T11:08:26.871409Z"
    }
   },
   "outputs": [
    {
     "name": "stdout",
     "output_type": "stream",
     "text": [
      "RMSE: 1.1988\n",
      "RMSE: 1.1955\n",
      "RMSE: 1.2925\n",
      "\n",
      "RMSE for Baseline: 1.1988145875643812\n",
      "RMSE for SVD: 1.1955118780123886\n",
      "RMSE for KNN: 1.2924805326379285\n"
     ]
    }
   ],
   "source": [
    "rmse_baseline = accuracy.rmse(predictions_baseline)\n",
    "rmse_svd = accuracy.rmse(predictions_svd)\n",
    "rmse_knn = accuracy.rmse(predictions_knn)\n",
    "print(\"\\nRMSE for Baseline:\", rmse_baseline)\n",
    "print(\"RMSE for SVD:\", rmse_svd)\n",
    "print(\"RMSE for KNN:\", rmse_knn)"
   ]
  },
  {
   "cell_type": "markdown",
   "metadata": {
    "execution": {
     "iopub.execute_input": "2024-02-28T15:05:33.715493Z",
     "iopub.status.busy": "2024-02-28T15:05:33.714446Z",
     "iopub.status.idle": "2024-02-28T15:05:33.723983Z",
     "shell.execute_reply": "2024-02-28T15:05:33.722933Z",
     "shell.execute_reply.started": "2024-02-28T15:05:33.715461Z"
    }
   },
   "source": [
    "### Count Based algorythm"
   ]
  },
  {
   "cell_type": "markdown",
   "metadata": {},
   "source": [
    "### I used the given algorythm from the first lecture with few changes"
   ]
  },
  {
   "cell_type": "code",
   "execution_count": 58,
   "metadata": {
    "execution": {
     "iopub.execute_input": "2024-03-13T11:09:57.853108Z",
     "iopub.status.busy": "2024-03-13T11:09:57.852651Z",
     "iopub.status.idle": "2024-03-13T11:09:57.862100Z",
     "shell.execute_reply": "2024-03-13T11:09:57.860778Z",
     "shell.execute_reply.started": "2024-03-13T11:09:57.853077Z"
    }
   },
   "outputs": [],
   "source": [
    "def load_user_ratings(ratings_df:pd.core.frame.DataFrame):\n",
    "    \n",
    "    '''\n",
    "    Loads all the ratings submitted by each user\n",
    "    \n",
    "    Returns a dictionary that maps each user to a second dict that maps movies to discretized ratings\n",
    "    \n",
    "    '''\n",
    "    \n",
    "    distinct_users=set(ratings_df['userId']) # get all distinct users\n",
    "    \n",
    "    user_ratings={} # store movie ratings per user \n",
    "    \n",
    "    for user in distinct_users: # for each user\n",
    "\n",
    "        # get the movie id and rating for every rating submitted by this user\n",
    "        my_ratings=df[df.userId==user][['BGGId','Rating']] \n",
    "\n",
    "        #discretize the ratings and attach them to the user\n",
    "        user_ratings[user]=dict(zip(my_ratings.BGGId, my_ratings.Rating))\n",
    "    return user_ratings"
   ]
  },
  {
   "cell_type": "code",
   "execution_count": 59,
   "metadata": {
    "execution": {
     "iopub.execute_input": "2024-03-13T11:09:59.917118Z",
     "iopub.status.busy": "2024-03-13T11:09:59.916670Z",
     "iopub.status.idle": "2024-03-13T11:10:02.272526Z",
     "shell.execute_reply": "2024-03-13T11:10:02.270969Z",
     "shell.execute_reply.started": "2024-03-13T11:09:59.917085Z"
    }
   },
   "outputs": [],
   "source": [
    "user_ratings=load_user_ratings(df)"
   ]
  },
  {
   "cell_type": "code",
   "execution_count": 60,
   "metadata": {
    "execution": {
     "iopub.execute_input": "2024-03-13T11:10:05.395491Z",
     "iopub.status.busy": "2024-03-13T11:10:05.395054Z",
     "iopub.status.idle": "2024-03-13T11:10:05.400405Z",
     "shell.execute_reply": "2024-03-13T11:10:05.399296Z",
     "shell.execute_reply.started": "2024-03-13T11:10:05.395456Z"
    }
   },
   "outputs": [],
   "source": [
    "# first_element = list(user_ratings.items())[1]"
   ]
  },
  {
   "cell_type": "code",
   "execution_count": 61,
   "metadata": {
    "execution": {
     "iopub.execute_input": "2024-03-13T11:10:05.754383Z",
     "iopub.status.busy": "2024-03-13T11:10:05.753971Z",
     "iopub.status.idle": "2024-03-13T11:10:05.759413Z",
     "shell.execute_reply": "2024-03-13T11:10:05.758117Z",
     "shell.execute_reply.started": "2024-03-13T11:10:05.754350Z"
    }
   },
   "outputs": [],
   "source": [
    "# first_element[0]"
   ]
  },
  {
   "cell_type": "code",
   "execution_count": 62,
   "metadata": {
    "execution": {
     "iopub.execute_input": "2024-03-13T11:10:06.188898Z",
     "iopub.status.busy": "2024-03-13T11:10:06.188234Z",
     "iopub.status.idle": "2024-03-13T11:10:06.199915Z",
     "shell.execute_reply": "2024-03-13T11:10:06.198619Z",
     "shell.execute_reply.started": "2024-03-13T11:10:06.188864Z"
    }
   },
   "outputs": [],
   "source": [
    "def get_user_neighbors(user_ratings:dict, # ratings submitted by each user\n",
    "                       min_rating_num:int=least_ratings # at least this many ratings are required for a comparison\n",
    "                      ):\n",
    "    \n",
    "    '''\n",
    "    Compute rating-based similarity between every two pairs of users \n",
    "    \n",
    "    '''\n",
    "    \n",
    "    #get all possible pairs of usres\n",
    "    pairs=list(combinations(list(user_ratings.keys()),2))\n",
    "    \n",
    "    usim=defaultdict(dict) # initialize the sim dictionary\n",
    "    \n",
    "    for u1,u2 in pairs: # for every user pair \n",
    "   \n",
    "        #get a set with all the discretized ratings (movie id, polarity tuples) for u1 and u2\n",
    "        s1=set([(mid,pol) for mid,pol in user_ratings[u1].items()])\n",
    "        s2=set([(mid,pol) for mid,pol in user_ratings[u2].items()])\n",
    "\n",
    "        # check if both users respect the lower bound\n",
    "        if len(s1)<min_rating_num or len(s2)<min_rating_num: continue\n",
    "      \n",
    "        # get the union and intersection for these two users\n",
    "        union=s1.union(s2)\n",
    "        inter=s1.intersection(s2)\n",
    "    \n",
    "        # compute user sim via the jaccard coeff\n",
    "        jacc=len(inter)/len(union)\n",
    "\n",
    "        # remember the sim values\n",
    "        usim[u1][u2]=jacc\n",
    "        usim[u2][u1]=jacc\n",
    "        \n",
    "    # attach each user to its neighbors, sorted by sim in descending order \n",
    "    return {user:sorted(usim[user].items(),key=lambda x:x[1], reverse=True) for user in usim}"
   ]
  },
  {
   "cell_type": "code",
   "execution_count": 64,
   "metadata": {
    "execution": {
     "iopub.execute_input": "2024-03-13T11:10:29.206621Z",
     "iopub.status.busy": "2024-03-13T11:10:29.206208Z",
     "iopub.status.idle": "2024-03-13T11:15:42.067431Z",
     "shell.execute_reply": "2024-03-13T11:15:42.066054Z",
     "shell.execute_reply.started": "2024-03-13T11:10:29.206589Z"
    }
   },
   "outputs": [],
   "source": [
    "neighbors_u=get_user_neighbors(user_ratings)"
   ]
  },
  {
   "cell_type": "markdown",
   "metadata": {},
   "source": [
    "### For this task I decided not to go with a positive,negative classification but with the original regression so the result can be compared with the previous question's results"
   ]
  },
  {
   "cell_type": "markdown",
   "metadata": {},
   "source": [
    "### Here I havent use a rule of rewarding and punishing the relusts, but i just calculate the voting * similarity_value"
   ]
  },
  {
   "cell_type": "code",
   "execution_count": 78,
   "metadata": {
    "execution": {
     "iopub.execute_input": "2024-03-13T11:21:15.163971Z",
     "iopub.status.busy": "2024-03-13T11:21:15.162831Z",
     "iopub.status.idle": "2024-03-13T11:21:15.176534Z",
     "shell.execute_reply": "2024-03-13T11:21:15.175152Z",
     "shell.execute_reply.started": "2024-03-13T11:21:15.163931Z"
    }
   },
   "outputs": [],
   "source": [
    "def recommend_ub(user:int, \n",
    "                 games:pd.core.frame.DataFrame, # movie info  \n",
    "                 neighbors_u:dict, # neighbors dict\n",
    "                 user_ratings:dict, # ratings submitted per user \n",
    "                 neighbor_num:int, # number of neighbors to consider\n",
    "                 rec_num:int,# number of movies to recommend\n",
    "                 print_output=True):\n",
    "  \n",
    "    scores_from_already_rated = []\n",
    "    top_k=neighbors_u[user][:neighbor_num] # get the top k neighbors of this user\n",
    "    \n",
    "    votes=defaultdict(int) # count the votes per movie\n",
    "    \n",
    "    for neighbor,sim_val in top_k: # for each neighbor \n",
    "\n",
    "        for mid,pol in user_ratings[neighbor].items(): # for each movie rated by this neighbor\n",
    "            votes[mid] = pol*sim_val\n",
    "    # sort the movies in desc order \n",
    "    srt=sorted(votes.items(),key=lambda x:x[1], reverse=True)\n",
    "    if print_output:\n",
    "        print('\\nI suggest the following movies because they have\\nreceived positive ratings from users who tend to\\nlike what you like:\\n')\n",
    "          \n",
    "    cnt=0 # count number of recommendations made \n",
    "    \n",
    "    already_rated={}\n",
    "    \n",
    "    for mov, score in srt: # for each movie \n",
    "        \n",
    "#         title=games.loc[mov]['Name'] # get the title \n",
    "        title=games.loc[games['BGGId'] == mov, 'Name'].values[0]\n",
    "        \n",
    "        rat=user_ratings[user].get(mov,None) # check if the user has already rated the movie \n",
    "        \n",
    "        if rat: # movie already rated \n",
    "            already_rated[title]=rat# store the rating\n",
    "            scores_from_already_rated.append(rat)\n",
    "            continue\n",
    "     \n",
    "        cnt+=1 # one more recommendation\n",
    "        if print_output:\n",
    "            print('\\n',mov, title) # print \n",
    "    \n",
    "        if cnt==rec_num:break # stop once you 've made enough recommendations\n",
    "    if print_output:\n",
    "        print('\\n Already rated: ',already_rated)\n",
    "    return scores_from_already_rated"
   ]
  },
  {
   "cell_type": "code",
   "execution_count": 79,
   "metadata": {
    "execution": {
     "iopub.execute_input": "2024-03-13T11:21:15.517790Z",
     "iopub.status.busy": "2024-03-13T11:21:15.517336Z",
     "iopub.status.idle": "2024-03-13T11:21:15.551103Z",
     "shell.execute_reply": "2024-03-13T11:21:15.549884Z",
     "shell.execute_reply.started": "2024-03-13T11:21:15.517754Z"
    }
   },
   "outputs": [
    {
     "name": "stdout",
     "output_type": "stream",
     "text": [
      "\n",
      "I suggest the following movies because they have\n",
      "received positive ratings from users who tend to\n",
      "like what you like:\n",
      "\n",
      "\n",
      " 154526 Payoff Pitch Baseball\n",
      "\n",
      " 105024 Israeli Air Force Leader\n",
      "\n",
      " 249421 Warfighter: The WWII Pacific Combat Card Game\n",
      "\n",
      " 294652 By Stealth and Sea\n",
      "\n",
      " 288316 Rurik: Dawn of Kiev – Kickstarter Edition\n",
      "\n",
      " 254936 Frontier Wars\n",
      "\n",
      " 231920 Holdfast: Tunisia 1942-43\n",
      "\n",
      " 293925 2GM Pacific\n",
      "\n",
      " 291066 Endure the Stars 1.5\n",
      "\n",
      " 250291 Hold the Line: The American Civil War\n",
      "\n",
      " Already rated:  {'Tide of Iron: Next Wave': 9.0, 'ASG Golf': 9.0, 'Hannibal & Hamilcar': 9.0, 'Time of Legends: Joan of Arc': 10.0, 'A Song of Ice & Fire: Tabletop Miniatures Game – Stark vs Lannister Starter Set': 9.0, 'The Great War': 9.0, 'The Edge: Dawnfall': 9.0, 'Conflict of Heroes: Guadalcanal – The Pacific 1942': 9.0, 'Combat Infantry: WestFront 1944-45': 8.0, 'Hold the Line: The American Revolution': 8.0, 'Replay Baseball': 9.0, 'Operation Jubilee: Dieppe, August 1942': 8.0, 'Dunkirk: France 1940': 8.0, 'Holdfast: EastFront 1941-45': 9.0}\n"
     ]
    },
    {
     "data": {
      "text/plain": [
       "[9.0, 9.0, 9.0, 10.0, 9.0, 9.0, 9.0, 9.0, 8.0, 8.0, 9.0, 8.0, 8.0, 9.0]"
      ]
     },
     "execution_count": 79,
     "metadata": {},
     "output_type": "execute_result"
    }
   ],
   "source": [
    "first_element = list(user_ratings.items())[5]\n",
    "recommend_ub(141325, games, neighbors_u, user_ratings, 10, 10,print_output = True)"
   ]
  },
  {
   "cell_type": "markdown",
   "metadata": {},
   "source": [
    "### Here I decided to calculate the accuracy of the algorythm, by computing the average of the ratings from the games the user had already rated and the algorythm proposed to the user "
   ]
  },
  {
   "cell_type": "code",
   "execution_count": 80,
   "metadata": {
    "execution": {
     "iopub.execute_input": "2024-03-13T11:21:16.710358Z",
     "iopub.status.busy": "2024-03-13T11:21:16.709811Z",
     "iopub.status.idle": "2024-03-13T11:21:24.833395Z",
     "shell.execute_reply": "2024-03-13T11:21:24.832161Z",
     "shell.execute_reply.started": "2024-03-13T11:21:16.710304Z"
    }
   },
   "outputs": [],
   "source": [
    "total_already_rated_scores = []\n",
    "cn = 0\n",
    "\n",
    "for i in range(1, len(user_ratings)):\n",
    "    fe = list(user_ratings.items())[i][0]\n",
    "    try:\n",
    "        list_sc_already_rated = recommend_ub(fe, games, neighbors_u, user_ratings, 10, 10, print_output=False)\n",
    "        total_already_rated_scores.append(list_sc_already_rated)\n",
    "    except Exception as e:\n",
    "        cn +=1\n",
    "        continue"
   ]
  },
  {
   "cell_type": "code",
   "execution_count": 81,
   "metadata": {
    "execution": {
     "iopub.execute_input": "2024-03-13T11:21:24.835793Z",
     "iopub.status.busy": "2024-03-13T11:21:24.835222Z",
     "iopub.status.idle": "2024-03-13T11:21:24.841210Z",
     "shell.execute_reply": "2024-03-13T11:21:24.840370Z",
     "shell.execute_reply.started": "2024-03-13T11:21:24.835760Z"
    }
   },
   "outputs": [],
   "source": [
    "flattened_list = [item for sublist in total_already_rated_scores for item in sublist]"
   ]
  },
  {
   "cell_type": "code",
   "execution_count": 82,
   "metadata": {
    "execution": {
     "iopub.execute_input": "2024-03-13T11:21:24.843172Z",
     "iopub.status.busy": "2024-03-13T11:21:24.842706Z",
     "iopub.status.idle": "2024-03-13T11:21:24.854410Z",
     "shell.execute_reply": "2024-03-13T11:21:24.853188Z",
     "shell.execute_reply.started": "2024-03-13T11:21:24.843141Z"
    }
   },
   "outputs": [
    {
     "name": "stdout",
     "output_type": "stream",
     "text": [
      "Average without rule: 7.144535228182547\n"
     ]
    }
   ],
   "source": [
    "average = sum(flattened_list) / len(flattened_list)\n",
    "\n",
    "print(\"Average without rule:\", average)"
   ]
  },
  {
   "cell_type": "markdown",
   "metadata": {},
   "source": [
    "### Now lets try the exact same algorythm but I will use the rewarding - punishing method of the lecture."
   ]
  },
  {
   "cell_type": "code",
   "execution_count": 83,
   "metadata": {
    "execution": {
     "iopub.execute_input": "2024-03-13T11:21:24.858211Z",
     "iopub.status.busy": "2024-03-13T11:21:24.857463Z",
     "iopub.status.idle": "2024-03-13T11:21:24.873195Z",
     "shell.execute_reply": "2024-03-13T11:21:24.872034Z",
     "shell.execute_reply.started": "2024-03-13T11:21:24.858167Z"
    }
   },
   "outputs": [],
   "source": [
    "def recommend_ub(user:int, \n",
    "                 games:pd.core.frame.DataFrame, # movie info  \n",
    "                 neighbors_u:dict, # neighbors dict\n",
    "                 user_ratings:dict, # ratings submitted per user \n",
    "                 neighbor_num:int, # number of neighbors to consider\n",
    "                 rec_num:int,# number of movies to recommend\n",
    "                 print_output=True):\n",
    "  \n",
    "    scores_from_already_rated = []\n",
    "    top_k=neighbors_u[user][:neighbor_num] # get the top k neighbors of this user\n",
    "    \n",
    "    votes=defaultdict(int) # count the votes per movie\n",
    "    \n",
    "    for neighbor,sim_val in top_k: # for each neighbor \n",
    "\n",
    "        for mid,pol in user_ratings[neighbor].items(): # for each movie rated by this neighbor\n",
    "\n",
    "            if pol>7: # positive neighbor rating\n",
    "                votes[mid]+=2*sim_val\n",
    "            elif pol<7: # negative \n",
    "                votes[mid]-=2*sim_val\n",
    "            else: # average \n",
    "                votes[mid]-=1*sim_val\n",
    "#             votes[mid] = pol*sim_val\n",
    "    # sort the movies in desc order \n",
    "    srt=sorted(votes.items(),key=lambda x:x[1], reverse=True)\n",
    "    if print_output:\n",
    "        print('\\nI suggest the following movies because they have\\nreceived positive ratings from users who tend to\\nlike what you like:\\n')\n",
    "          \n",
    "    cnt=0 # count number of recommendations made \n",
    "    \n",
    "    already_rated={}\n",
    "    \n",
    "    for mov, score in srt: # for each movie \n",
    "        \n",
    "#         title=games.loc[mov]['Name'] # get the title \n",
    "        title=games.loc[games['BGGId'] == mov, 'Name'].values[0]\n",
    "        \n",
    "        rat=user_ratings[user].get(mov,None) # check if the user has already rated the movie \n",
    "        \n",
    "        if rat: # movie already rated \n",
    "            already_rated[title]=rat# store the rating\n",
    "            scores_from_already_rated.append(rat)\n",
    "            continue\n",
    "     \n",
    "        cnt+=1 # one more recommendation\n",
    "        if print_output:\n",
    "            print('\\n',mov, title) # print \n",
    "    \n",
    "        if cnt==rec_num:break # stop once you 've made enough recommendations\n",
    "    if print_output:\n",
    "        print('\\n Already rated: ',already_rated)\n",
    "    return scores_from_already_rated"
   ]
  },
  {
   "cell_type": "code",
   "execution_count": 84,
   "metadata": {
    "execution": {
     "iopub.execute_input": "2024-03-13T11:21:24.875560Z",
     "iopub.status.busy": "2024-03-13T11:21:24.874500Z",
     "iopub.status.idle": "2024-03-13T11:21:46.128131Z",
     "shell.execute_reply": "2024-03-13T11:21:46.127035Z",
     "shell.execute_reply.started": "2024-03-13T11:21:24.875516Z"
    }
   },
   "outputs": [],
   "source": [
    "total_already_rated_scores = []\n",
    "cn = 0\n",
    "\n",
    "for i in range(1, len(user_ratings)):\n",
    "    fe = list(user_ratings.items())[i][0]\n",
    "    try:\n",
    "        list_sc_already_rated = recommend_ub(fe, games, neighbors_u, user_ratings, 10, 10, print_output=False)\n",
    "        total_already_rated_scores.append(list_sc_already_rated)\n",
    "    except Exception as e:\n",
    "        cn +=1\n",
    "        continue"
   ]
  },
  {
   "cell_type": "code",
   "execution_count": 85,
   "metadata": {
    "execution": {
     "iopub.execute_input": "2024-03-13T11:21:46.130720Z",
     "iopub.status.busy": "2024-03-13T11:21:46.130378Z",
     "iopub.status.idle": "2024-03-13T11:21:46.138649Z",
     "shell.execute_reply": "2024-03-13T11:21:46.137492Z",
     "shell.execute_reply.started": "2024-03-13T11:21:46.130677Z"
    }
   },
   "outputs": [],
   "source": [
    "flattened_list = [item for sublist in total_already_rated_scores for item in sublist]"
   ]
  },
  {
   "cell_type": "markdown",
   "metadata": {},
   "source": [
    "### As we can see the algorythm work better with the rule since the average of the recommended games is much higher then the previous method"
   ]
  },
  {
   "cell_type": "code",
   "execution_count": 86,
   "metadata": {
    "execution": {
     "iopub.execute_input": "2024-03-13T11:21:46.141016Z",
     "iopub.status.busy": "2024-03-13T11:21:46.140277Z",
     "iopub.status.idle": "2024-03-13T11:21:46.154467Z",
     "shell.execute_reply": "2024-03-13T11:21:46.153173Z",
     "shell.execute_reply.started": "2024-03-13T11:21:46.140975Z"
    }
   },
   "outputs": [
    {
     "name": "stdout",
     "output_type": "stream",
     "text": [
      "Average with rule from lecture: 7.872643308798583\n"
     ]
    }
   ],
   "source": [
    "average = sum(flattened_list) / len(flattened_list)\n",
    "\n",
    "print(\"Average with rule from lecture:\", average)"
   ]
  },
  {
   "cell_type": "code",
   "execution_count": null,
   "metadata": {},
   "outputs": [],
   "source": []
  }
 ],
 "metadata": {
  "kaggle": {
   "accelerator": "none",
   "dataSources": [
    {
     "datasetId": 1870426,
     "sourceId": 3055483,
     "sourceType": "datasetVersion"
    }
   ],
   "dockerImageVersionId": 30646,
   "isGpuEnabled": false,
   "isInternetEnabled": false,
   "language": "python",
   "sourceType": "notebook"
  },
  "kernelspec": {
   "display_name": "Python 3 (ipykernel)",
   "language": "python",
   "name": "python3"
  },
  "language_info": {
   "codemirror_mode": {
    "name": "ipython",
    "version": 3
   },
   "file_extension": ".py",
   "mimetype": "text/x-python",
   "name": "python",
   "nbconvert_exporter": "python",
   "pygments_lexer": "ipython3",
   "version": "3.11.7"
  }
 },
 "nbformat": 4,
 "nbformat_minor": 4
}
